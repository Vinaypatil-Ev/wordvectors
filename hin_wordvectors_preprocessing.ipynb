{
  "nbformat": 4,
  "nbformat_minor": 0,
  "metadata": {
    "colab": {
      "name": "hin-wordvectors-preprocessing.ipynb",
      "provenance": [],
      "collapsed_sections": [],
      "include_colab_link": true
    },
    "kernelspec": {
      "name": "python3",
      "display_name": "Python 3"
    }
  },
  "cells": [
    {
      "cell_type": "markdown",
      "metadata": {
        "id": "view-in-github",
        "colab_type": "text"
      },
      "source": [
        "<a href=\"https://colab.research.google.com/github/prashanthi411/wordvectors/blob/master/hin_wordvectors_preprocessing.ipynb\" target=\"_parent\"><img src=\"https://colab.research.google.com/assets/colab-badge.svg\" alt=\"Open In Colab\"/></a>"
      ]
    },
    {
      "cell_type": "code",
      "metadata": {
        "id": "bahoYBz-zNcj",
        "colab_type": "code",
        "colab": {}
      },
      "source": [
        "from google.colab import drive\n",
        "drive.mount('/content/drive') "
      ],
      "execution_count": 0,
      "outputs": []
    },
    {
      "cell_type": "code",
      "metadata": {
        "id": "Kvqf1irH1ckn",
        "colab_type": "code",
        "outputId": "b9c32964-b02b-4a5f-fe86-4f7b9739a162",
        "colab": {
          "base_uri": "https://localhost:8080/",
          "height": 35
        }
      },
      "source": [
        "%cd drive/My\\ Drive "
      ],
      "execution_count": 0,
      "outputs": [
        {
          "output_type": "stream",
          "text": [
            "/content/drive/My Drive\n"
          ],
          "name": "stdout"
        }
      ]
    },
    {
      "cell_type": "code",
      "metadata": {
        "id": "NO8fWBOS1l1e",
        "colab_type": "code",
        "colab": {}
      },
      "source": [
        "!unzip -q \"hi.zip\""
      ],
      "execution_count": 0,
      "outputs": []
    },
    {
      "cell_type": "code",
      "metadata": {
        "id": "1P3c2jjk1zcb",
        "colab_type": "code",
        "colab": {}
      },
      "source": [
        "h = open(r'hi.tsv', encoding=\"utf-8\")"
      ],
      "execution_count": 0,
      "outputs": []
    },
    {
      "cell_type": "code",
      "metadata": {
        "id": "qTr3htlT2fcw",
        "colab_type": "code",
        "colab": {}
      },
      "source": [
        "r = h.readlines()"
      ],
      "execution_count": 0,
      "outputs": []
    },
    {
      "cell_type": "code",
      "metadata": {
        "id": "LYfDIzxeEcCA",
        "colab_type": "code",
        "outputId": "a3a72254-59b4-4b99-c96b-a937fbac79fc",
        "colab": {
          "base_uri": "https://localhost:8080/",
          "height": 177
        }
      },
      "source": [
        "t = r[0].split()\n",
        "t"
      ],
      "execution_count": 237,
      "outputs": [
        {
          "output_type": "execute_result",
          "data": {
            "text/plain": [
              "['0',\n",
              " 'के',\n",
              " '[',\n",
              " '0.28046066',\n",
              " '-0.60046971',\n",
              " '-0.51837623',\n",
              " '0.9249621',\n",
              " '0.69857067',\n",
              " '0.49193406']"
            ]
          },
          "metadata": {
            "tags": []
          },
          "execution_count": 237
        }
      ]
    },
    {
      "cell_type": "code",
      "metadata": {
        "id": "dfVbGRrwEq3v",
        "colab_type": "code",
        "outputId": "a586bfef-961f-4086-e79b-31f2b6ba68d5",
        "colab": {
          "base_uri": "https://localhost:8080/",
          "height": 35
        }
      },
      "source": [
        "t[5] = t[5].strip(']\\n')\n",
        "print(t)"
      ],
      "execution_count": 238,
      "outputs": [
        {
          "output_type": "stream",
          "text": [
            "['0', 'के', '[', '0.28046066', '-0.60046971', '-0.51837623', '0.9249621', '0.69857067', '0.49193406']\n"
          ],
          "name": "stdout"
        }
      ]
    },
    {
      "cell_type": "code",
      "metadata": {
        "id": "pkaVp2GrJGMJ",
        "colab_type": "code",
        "colab": {}
      },
      "source": [
        "embedding_dict_hin = dict()\n",
        "records = []\n",
        "m=0\n",
        "l=0\n",
        "while(l < len(r)):\n",
        "  records = r[l].split()\n",
        "  word = records[1]\n",
        "  vector_dimensions = []\n",
        "  for x in records[2:]:\n",
        "    p = x.strip('[')\n",
        "    if(p!=\"\"):\n",
        "      vector_dimensions.append(float(p))\n",
        "  m=1\n",
        "  while(len(vector_dimensions)<300):\n",
        "    rec = r[l+m].split()\n",
        "    rec[-1] = rec[-1].strip(']')\n",
        "    for y in rec:\n",
        "      q = y.strip('[')\n",
        "      if(q!=\"\"):\n",
        "        vector_dimensions.append(float(q))\n",
        "    m=m+1\n",
        "  l=l+m\n",
        "  embedding_dict_hin[word] = vector_dimensions"
      ],
      "execution_count": 0,
      "outputs": []
    }
  ]
}